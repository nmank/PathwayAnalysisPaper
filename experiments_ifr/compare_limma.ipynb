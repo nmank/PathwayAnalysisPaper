{
 "cells": [
  {
   "cell_type": "code",
   "execution_count": 1,
   "metadata": {},
   "outputs": [],
   "source": [
    "import plotly.express as px\n",
    "import numpy as np\n",
    "import pandas as pd"
   ]
  },
  {
   "cell_type": "code",
   "execution_count": 4,
   "metadata": {},
   "outputs": [
    {
     "name": "stderr",
     "output_type": "stream",
     "text": [
      "/tmp/ipykernel_7255/1646384220.py:16: FutureWarning:\n",
      "\n",
      "The frame.append method is deprecated and will be removed from pandas in a future version. Use pandas.concat instead.\n",
      "\n"
     ]
    }
   ],
   "source": [
    "results = pd.read_csv('./results/new_best_classifier_results.csv', index_col = 0)\n",
    "\n",
    "differences = pd.DataFrame(columns = ['Method', 'Experiment', 'Difference'])\n",
    "for exp in np.unique(results['Experiment']):\n",
    "    if 'limma' not in exp:\n",
    "        for method in ['CPE', 'LPE', 'GE']:\n",
    "            idx = (results['Experiment'] == exp) &\\\n",
    "                (results['Method'] == method)\n",
    "            res = results[idx]['BSR'].item()\n",
    "            limma_exp = exp + ' subjectID limma'\n",
    "            limma_idx = (results['Experiment'] == limma_exp) &\\\n",
    "                (results['Method'] == method)\n",
    "            limma_res = results[limma_idx]['BSR'].item()\n",
    "\n",
    "            row = pd.DataFrame.from_dict({'Method':[method], 'Experiment':[exp], 'Difference':[limma_res -res]})\n",
    "            differences = differences.append(row, ignore_index = True)\n",
    "\n",
    "fig = px.box(differences, x='Method', y='Difference', color = 'Method', color_discrete_sequence=px.colors.qualitative.Vivid, points = 'all')\n",
    "fig.write_image(\"./results/new_limma_differences.png\")"
   ]
  },
  {
   "cell_type": "code",
   "execution_count": null,
   "metadata": {},
   "outputs": [],
   "source": []
  }
 ],
 "metadata": {
  "kernelspec": {
   "display_name": "Python 3.8.8 ('base': conda)",
   "language": "python",
   "name": "python3"
  },
  "language_info": {
   "codemirror_mode": {
    "name": "ipython",
    "version": 3
   },
   "file_extension": ".py",
   "mimetype": "text/x-python",
   "name": "python",
   "nbconvert_exporter": "python",
   "pygments_lexer": "ipython3",
   "version": "3.8.8"
  },
  "orig_nbformat": 4,
  "vscode": {
   "interpreter": {
    "hash": "9a16b7d45e15add018271b8879906ed388208b17729257166cad5f2212e101aa"
   }
  }
 },
 "nbformat": 4,
 "nbformat_minor": 2
}
