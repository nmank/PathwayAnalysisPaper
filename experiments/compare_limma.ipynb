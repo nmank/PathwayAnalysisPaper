{
 "cells": [
  {
   "cell_type": "code",
   "execution_count": null,
   "metadata": {},
   "outputs": [],
   "source": [
    "import plotly.express as px\n",
    "import numpy as np\n",
    "import pandas as pd"
   ]
  },
  {
   "cell_type": "code",
   "execution_count": null,
   "metadata": {},
   "outputs": [],
   "source": [
    "results = pd.read_csv('../new_best_classifier_results.csv', index_col = 0)\n",
    "\n",
    "differences = pd.DataFrame(columns = ['Method', 'Experiment', 'Difference'])\n",
    "for exp in np.unique(results['Experiment']):\n",
    "    if 'limma' not in exp:\n",
    "        for method in ['CPE', 'LPE', 'GE']:\n",
    "            idx = (results['Experiment'] == exp) &\\\n",
    "                (results['Method'] == method)\n",
    "            res = results[idx]['BSR'].item()\n",
    "            limma_exp = exp + ' subjectID limma'\n",
    "            limma_idx = (results['Experiment'] == limma_exp) &\\\n",
    "                (results['Method'] == method)\n",
    "            limma_res = results[limma_idx]['BSR'].item()\n",
    "\n",
    "            row = pd.DataFrame.from_dict({'Method':[method], 'Experiment':[exp], 'Difference':[limma_res -res]})\n",
    "            differences = differences.append(row, ignore_index = True)\n",
    "\n",
    "fig = px.box(differences, x='Method', y='Difference', color_discrete_sequence=px.colors.qualitative.Vivid)\n",
    "fig.write_image(\"./results/new_limma_differences.png\")"
   ]
  }
 ],
 "metadata": {
  "kernelspec": {
   "display_name": "Python 3.8.8 ('base': conda)",
   "language": "python",
   "name": "python3"
  },
  "language_info": {
   "name": "python",
   "version": "3.8.8"
  },
  "orig_nbformat": 4,
  "vscode": {
   "interpreter": {
    "hash": "9a16b7d45e15add018271b8879906ed388208b17729257166cad5f2212e101aa"
   }
  }
 },
 "nbformat": 4,
 "nbformat_minor": 2
}
