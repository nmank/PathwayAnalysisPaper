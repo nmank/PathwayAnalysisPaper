{
 "cells": [
  {
   "cell_type": "code",
   "execution_count": 1,
   "metadata": {},
   "outputs": [],
   "source": [
    "import mlflow\n",
    "import pandas as pd\n",
    "import numpy as np\n",
    "import seaborn as sns"
   ]
  },
  {
   "cell_type": "code",
   "execution_count": 2,
   "metadata": {},
   "outputs": [],
   "source": [
    "\n",
    "glpe_runs = mlflow.search_runs(experiment_ids=['2']).fillna(value=np.nan)\n",
    "\n",
    "cepa_runs = mlflow.search_runs(experiment_ids=['0']).fillna(value=np.nan)"
   ]
  },
  {
   "cell_type": "code",
   "execution_count": 3,
   "metadata": {},
   "outputs": [],
   "source": [
    "def get_max_config(df: pd.DataFrame, method: str) -> pd.DataFrame:\n",
    "    '''\n",
    "    get the best runs for a method by experiment\n",
    "    '''\n",
    "    query = df['params.method'] == method\n",
    "    method_runs = df[query]\n",
    "\n",
    "    best_runs = pd.DataFrame(columns = df.columns)\n",
    "\n",
    "    for experiment in np.unique(method_runs['params.experiment']):\n",
    "\n",
    "        best_run = load_best_run(experiment, method_runs)\n",
    "\n",
    "        best_runs = best_runs.append(best_run, ignore_index = True)\n",
    "\n",
    "    return best_runs\n",
    "\n",
    "def get_precomputed_directed_pagerank(df: pd.DataFrame) -> pd.DataFrame:\n",
    "    query = (df['params.method'] == 'CPE') &\\\n",
    "            (df['params.centrality_measure'] == 'page_rank') &\\\n",
    "            (df['params.similarity_measure'] == 'precomputed') &\\\n",
    "            (df['params.directed'] == 'True')\n",
    "    good_cpe_runs = df[query]\n",
    "\n",
    "    return good_cpe_runs\n",
    "\n",
    "def load_best_run(experiment: str, method_runs: pd.DataFrame) -> pd.DataFrame:\n",
    "    '''\n",
    "    index highest BSR mlflow run by an experiment\n",
    "    '''\n",
    "    query = method_runs['params.experiment'] == experiment\n",
    "    exp_method_runs = method_runs[query]\n",
    "    max_idx = exp_method_runs['metrics.train_test.Test.Mean.BSR'].idxmax()    \n",
    "    best_run = exp_method_runs.loc[max_idx]\n",
    "\n",
    "    return best_run\n",
    "\n",
    "def get_pathways_glpe(exp_id: str, best_runs: pd.DataFrame) -> list:\n",
    "    '''\n",
    "    get the glpe pathways that were selected in feature selection\n",
    "    '''\n",
    "    # import IPython; IPython.embed()\n",
    "\n",
    "    query = best_runs['params.experiment'] == exp_id\n",
    "    run = best_runs[query]\n",
    "    pathways = pd.read_csv(os.path.join(run.filter(regex='artifact').iloc[0,0], 'pathway_ranks.csv'), dtype=object).dropna(how = 'all')\n",
    "    pathways['batch:Ranks'] = pathways['batch:Ranks'].astype(int)\n",
    "    selected_pathways = pathways[pathways['batch:Selected'] == '1']\n",
    "    pathway_list = list(selected_pathways['Unnamed: 0'])\n",
    "    return pathway_list\n",
    "\n",
    "def get_cepa_query(best_cpe_runs: pd.DataFrame, cepa_runs: pd.DataFrame, exp_id: str) -> pd.Series:\n",
    "    '''\n",
    "    query cepa using cpe run and experiment id\n",
    "    '''\n",
    "\n",
    "    query = best_cpe_runs['params.experiment'] == exp_id\n",
    "    cpe_run  = best_cpe_runs[query]\n",
    "    similarity_measure = cpe_run['params.similarity_measure'].item()\n",
    "    centrality_measure = cpe_run['params.centrality_measure'].item()\n",
    "\n",
    "    query = limma_query_switch(exp_id, cepa_runs, similarity_measure, centrality_measure)\n",
    "\n",
    "    return query\n",
    "    \n",
    "def limma_query_switch(exp_id: str, cepa_runs: pd.DataFrame, similarity_measure: str, centrality_measure: str) -> pd.Series:\n",
    "    '''\n",
    "    generate a query for cepa using cpe centrality_measure, similarity_measure and exp_id\n",
    "    ''' \n",
    "    query = (cepa_runs['params.centrality_measure'] == centrality_measure) & \\\n",
    "            (cepa_runs['params.similarity_measure'] == similarity_measure) & \\\n",
    "            (cepa_runs['params.experiment'] == exp_id) & \\\n",
    "            (cepa_runs['params.directed'] == 'False')\n",
    "\n",
    "    return query\n",
    "\n",
    "def get_pathways_cepa(best_cpe_runs: pd.DataFrame, exp_id: str, cepa_runs: pd.DataFrame, pval_thresh =.05) -> list:\n",
    "    '''\n",
    "    get cepa pathways using experiment, score, and p value threshhold\n",
    "    '''\n",
    "    query = get_cepa_query(best_cpe_runs, cepa_runs, exp_id)\n",
    "\n",
    "    run = cepa_runs[query]\n",
    "\n",
    "    pathways = pd.read_csv(os.path.join(run['artifact_uri'].item(), 'cpe_pathway_ranks.csv'), dtype=object)\n",
    "    pathways['p_val'] = pathways['p_val'].astype(float)\n",
    "    # pathways = pathways.sort_values(by = 'p_val')\n",
    "    pathways = pathways.sort_values(by = 'score', ascending = False)\n",
    "    best_pathways = pathways.query(\"p_val< @pval_thresh\")\n",
    "    cepa_pathways = list(best_pathways.iloc[:60]['ReactomeID'])\n",
    "\n",
    "    return cepa_pathways\n",
    "\n",
    "def jaccard(list1 : list, list2: list) -> float:\n",
    "    '''\n",
    "    find the jaccard overlap\n",
    "    '''\n",
    "    intersection = len(list(set(list1).intersection(list2)))\n",
    "    union = (len(list1) + len(list2)) - intersection\n",
    "    return float(intersection) / union\n"
   ]
  },
  {
   "cell_type": "code",
   "execution_count": 4,
   "metadata": {},
   "outputs": [
    {
     "name": "stderr",
     "output_type": "stream",
     "text": [
      "/tmp/ipykernel_40707/2243643634.py:14: FutureWarning: The frame.append method is deprecated and will be removed from pandas in a future version. Use pandas.concat instead.\n",
      "  best_runs = best_runs.append(best_run, ignore_index = True)\n",
      "/tmp/ipykernel_40707/2243643634.py:14: FutureWarning: The frame.append method is deprecated and will be removed from pandas in a future version. Use pandas.concat instead.\n",
      "  best_runs = best_runs.append(best_run, ignore_index = True)\n",
      "/tmp/ipykernel_40707/2243643634.py:14: FutureWarning: The frame.append method is deprecated and will be removed from pandas in a future version. Use pandas.concat instead.\n",
      "  best_runs = best_runs.append(best_run, ignore_index = True)\n",
      "/tmp/ipykernel_40707/2243643634.py:14: FutureWarning: The frame.append method is deprecated and will be removed from pandas in a future version. Use pandas.concat instead.\n",
      "  best_runs = best_runs.append(best_run, ignore_index = True)\n",
      "/tmp/ipykernel_40707/2243643634.py:14: FutureWarning: The frame.append method is deprecated and will be removed from pandas in a future version. Use pandas.concat instead.\n",
      "  best_runs = best_runs.append(best_run, ignore_index = True)\n",
      "/tmp/ipykernel_40707/2243643634.py:14: FutureWarning: The frame.append method is deprecated and will be removed from pandas in a future version. Use pandas.concat instead.\n",
      "  best_runs = best_runs.append(best_run, ignore_index = True)\n",
      "/tmp/ipykernel_40707/2243643634.py:14: FutureWarning: The frame.append method is deprecated and will be removed from pandas in a future version. Use pandas.concat instead.\n",
      "  best_runs = best_runs.append(best_run, ignore_index = True)\n",
      "/tmp/ipykernel_40707/2243643634.py:14: FutureWarning: The frame.append method is deprecated and will be removed from pandas in a future version. Use pandas.concat instead.\n",
      "  best_runs = best_runs.append(best_run, ignore_index = True)\n",
      "/tmp/ipykernel_40707/2243643634.py:14: FutureWarning: The frame.append method is deprecated and will be removed from pandas in a future version. Use pandas.concat instead.\n",
      "  best_runs = best_runs.append(best_run, ignore_index = True)\n",
      "/tmp/ipykernel_40707/2243643634.py:14: FutureWarning: The frame.append method is deprecated and will be removed from pandas in a future version. Use pandas.concat instead.\n",
      "  best_runs = best_runs.append(best_run, ignore_index = True)\n",
      "/tmp/ipykernel_40707/2243643634.py:14: FutureWarning: The frame.append method is deprecated and will be removed from pandas in a future version. Use pandas.concat instead.\n",
      "  best_runs = best_runs.append(best_run, ignore_index = True)\n",
      "/tmp/ipykernel_40707/2243643634.py:14: FutureWarning: The frame.append method is deprecated and will be removed from pandas in a future version. Use pandas.concat instead.\n",
      "  best_runs = best_runs.append(best_run, ignore_index = True)\n",
      "/tmp/ipykernel_40707/2243643634.py:14: FutureWarning: The frame.append method is deprecated and will be removed from pandas in a future version. Use pandas.concat instead.\n",
      "  best_runs = best_runs.append(best_run, ignore_index = True)\n",
      "/tmp/ipykernel_40707/2243643634.py:14: FutureWarning: The frame.append method is deprecated and will be removed from pandas in a future version. Use pandas.concat instead.\n",
      "  best_runs = best_runs.append(best_run, ignore_index = True)\n",
      "/tmp/ipykernel_40707/2243643634.py:14: FutureWarning: The frame.append method is deprecated and will be removed from pandas in a future version. Use pandas.concat instead.\n",
      "  best_runs = best_runs.append(best_run, ignore_index = True)\n",
      "/tmp/ipykernel_40707/2243643634.py:14: FutureWarning: The frame.append method is deprecated and will be removed from pandas in a future version. Use pandas.concat instead.\n",
      "  best_runs = best_runs.append(best_run, ignore_index = True)\n",
      "/tmp/ipykernel_40707/2243643634.py:14: FutureWarning: The frame.append method is deprecated and will be removed from pandas in a future version. Use pandas.concat instead.\n",
      "  best_runs = best_runs.append(best_run, ignore_index = True)\n",
      "/tmp/ipykernel_40707/2243643634.py:14: FutureWarning: The frame.append method is deprecated and will be removed from pandas in a future version. Use pandas.concat instead.\n",
      "  best_runs = best_runs.append(best_run, ignore_index = True)\n",
      "/tmp/ipykernel_40707/2243643634.py:14: FutureWarning: The frame.append method is deprecated and will be removed from pandas in a future version. Use pandas.concat instead.\n",
      "  best_runs = best_runs.append(best_run, ignore_index = True)\n",
      "/tmp/ipykernel_40707/2243643634.py:14: FutureWarning: The frame.append method is deprecated and will be removed from pandas in a future version. Use pandas.concat instead.\n",
      "  best_runs = best_runs.append(best_run, ignore_index = True)\n",
      "/tmp/ipykernel_40707/2243643634.py:14: FutureWarning: The frame.append method is deprecated and will be removed from pandas in a future version. Use pandas.concat instead.\n",
      "  best_runs = best_runs.append(best_run, ignore_index = True)\n",
      "/tmp/ipykernel_40707/2243643634.py:14: FutureWarning: The frame.append method is deprecated and will be removed from pandas in a future version. Use pandas.concat instead.\n",
      "  best_runs = best_runs.append(best_run, ignore_index = True)\n",
      "/tmp/ipykernel_40707/2243643634.py:14: FutureWarning: The frame.append method is deprecated and will be removed from pandas in a future version. Use pandas.concat instead.\n",
      "  best_runs = best_runs.append(best_run, ignore_index = True)\n",
      "/tmp/ipykernel_40707/2243643634.py:14: FutureWarning: The frame.append method is deprecated and will be removed from pandas in a future version. Use pandas.concat instead.\n",
      "  best_runs = best_runs.append(best_run, ignore_index = True)\n"
     ]
    }
   ],
   "source": [
    "best_cpe_runs = get_precomputed_directed_pagerank(glpe_runs)\n",
    "best_lpe_runs = get_max_config(glpe_runs, 'LPE')\n"
   ]
  },
  {
   "cell_type": "code",
   "execution_count": 41,
   "metadata": {},
   "outputs": [],
   "source": [
    "overlap_data = pd.DataFrame(columns = ['Method','Time Bin', 'Overlap'])\n",
    "for t_bin in ['1_8','9_16', '17_24', '25_32']:\n",
    "    exp_id4 = f'gse73072_4to2_{t_bin}_subjectID_limma'\n",
    "    exp_id6 = f'gse73072_6to1_{t_bin}_subjectID_limma'\n",
    "\n",
    "    cpe4_pathway_list = get_pathways_glpe(exp_id4, best_cpe_runs)\n",
    "    lpe4_pathway_list = get_pathways_glpe(exp_id4, best_lpe_runs)\n",
    "\n",
    "    cpe6_pathway_list = get_pathways_glpe(exp_id6, best_cpe_runs)\n",
    "    lpe6_pathway_list = get_pathways_glpe(exp_id6, best_lpe_runs)\n",
    "\n",
    "    ora_pathways_df = pd.read_csv(f'../ge_ora/{exp_id4}.csv', index_col = 0)\n",
    "    ora_query = ora_pathways_df['pvalue'] < 1 #1 pvalue threshold for ORA\n",
    "    ora4_pathway_list = set(list(ora_pathways_df[ora_query]['ID']))\n",
    "\n",
    "    ora_pathways_df = pd.read_csv(f'../ge_ora/{exp_id6}.csv', index_col = 0)\n",
    "    ora_query = ora_pathways_df['pvalue'] < 1 #1 pvalue threshold for ORA\n",
    "    ora6_pathway_list = set(list(ora_pathways_df[ora_query]['ID']))\n",
    "\n",
    "    cepa4_pathway_list = get_pathways_cepa(best_cpe_runs, exp_id4, cepa_runs, pval_thresh =.05)\n",
    "    cepa6_pathway_list = get_pathways_cepa(best_cpe_runs, exp_id6, cepa_runs, pval_thresh =.05)\n",
    "\n",
    "\n",
    "    cpe_overlap = jaccard(cpe4_pathway_list,cpe6_pathway_list)\n",
    "    lpe_overlap = jaccard(lpe4_pathway_list,lpe6_pathway_list)\n",
    "    cepa_overlap = jaccard(cepa4_pathway_list, cepa6_pathway_list)\n",
    "    ora_overlap = jaccard(ora4_pathway_list,ora6_pathway_list)\n",
    "\n",
    "    row = pd.DataFrame(columns = ['Method','Time Bin', 'Overlap'], data = [['CPE', t_bin, cpe_overlap]])\n",
    "    overlap_data = pd.concat([overlap_data, row])\n",
    "    row = pd.DataFrame(columns = ['Method','Time Bin', 'Overlap'], data = [['LPE', t_bin, lpe_overlap]])\n",
    "    overlap_data = pd.concat([overlap_data, row])\n",
    "    row = pd.DataFrame(columns = ['Method','Time Bin', 'Overlap'], data = [['CEPA', t_bin, cepa_overlap]])\n",
    "    overlap_data = pd.concat([overlap_data, row])\n",
    "    row = pd.DataFrame(columns = ['Method','Time Bin', 'Overlap'], data = [['ORA', t_bin, ora_overlap]])\n",
    "    overlap_data = pd.concat([overlap_data, row])\n",
    "\n"
   ]
  },
  {
   "cell_type": "code",
   "execution_count": 46,
   "metadata": {},
   "outputs": [
    {
     "data": {
      "text/html": [
       "<div>\n",
       "<style scoped>\n",
       "    .dataframe tbody tr th:only-of-type {\n",
       "        vertical-align: middle;\n",
       "    }\n",
       "\n",
       "    .dataframe tbody tr th {\n",
       "        vertical-align: top;\n",
       "    }\n",
       "\n",
       "    .dataframe thead th {\n",
       "        text-align: right;\n",
       "    }\n",
       "</style>\n",
       "<table border=\"1\" class=\"dataframe\">\n",
       "  <thead>\n",
       "    <tr style=\"text-align: right;\">\n",
       "      <th></th>\n",
       "      <th>Method</th>\n",
       "      <th>Time Bin</th>\n",
       "      <th>Overlap</th>\n",
       "    </tr>\n",
       "  </thead>\n",
       "  <tbody>\n",
       "    <tr>\n",
       "      <th>0</th>\n",
       "      <td>CPE</td>\n",
       "      <td>1_8</td>\n",
       "      <td>0.087719</td>\n",
       "    </tr>\n",
       "    <tr>\n",
       "      <th>0</th>\n",
       "      <td>LPE</td>\n",
       "      <td>1_8</td>\n",
       "      <td>0.058824</td>\n",
       "    </tr>\n",
       "    <tr>\n",
       "      <th>0</th>\n",
       "      <td>CEPA</td>\n",
       "      <td>1_8</td>\n",
       "      <td>0.016949</td>\n",
       "    </tr>\n",
       "    <tr>\n",
       "      <th>0</th>\n",
       "      <td>ORA</td>\n",
       "      <td>1_8</td>\n",
       "      <td>0.209524</td>\n",
       "    </tr>\n",
       "    <tr>\n",
       "      <th>0</th>\n",
       "      <td>CPE</td>\n",
       "      <td>9_16</td>\n",
       "      <td>0.101449</td>\n",
       "    </tr>\n",
       "    <tr>\n",
       "      <th>0</th>\n",
       "      <td>LPE</td>\n",
       "      <td>9_16</td>\n",
       "      <td>0.088542</td>\n",
       "    </tr>\n",
       "    <tr>\n",
       "      <th>0</th>\n",
       "      <td>CEPA</td>\n",
       "      <td>9_16</td>\n",
       "      <td>0.016949</td>\n",
       "    </tr>\n",
       "    <tr>\n",
       "      <th>0</th>\n",
       "      <td>ORA</td>\n",
       "      <td>9_16</td>\n",
       "      <td>0.22884</td>\n",
       "    </tr>\n",
       "    <tr>\n",
       "      <th>0</th>\n",
       "      <td>CPE</td>\n",
       "      <td>17_24</td>\n",
       "      <td>0.140794</td>\n",
       "    </tr>\n",
       "    <tr>\n",
       "      <th>0</th>\n",
       "      <td>LPE</td>\n",
       "      <td>17_24</td>\n",
       "      <td>0.118644</td>\n",
       "    </tr>\n",
       "    <tr>\n",
       "      <th>0</th>\n",
       "      <td>CEPA</td>\n",
       "      <td>17_24</td>\n",
       "      <td>0.043478</td>\n",
       "    </tr>\n",
       "    <tr>\n",
       "      <th>0</th>\n",
       "      <td>ORA</td>\n",
       "      <td>17_24</td>\n",
       "      <td>0.357362</td>\n",
       "    </tr>\n",
       "    <tr>\n",
       "      <th>0</th>\n",
       "      <td>CPE</td>\n",
       "      <td>25_32</td>\n",
       "      <td>0.084577</td>\n",
       "    </tr>\n",
       "    <tr>\n",
       "      <th>0</th>\n",
       "      <td>LPE</td>\n",
       "      <td>25_32</td>\n",
       "      <td>0.119565</td>\n",
       "    </tr>\n",
       "    <tr>\n",
       "      <th>0</th>\n",
       "      <td>CEPA</td>\n",
       "      <td>25_32</td>\n",
       "      <td>0.025641</td>\n",
       "    </tr>\n",
       "    <tr>\n",
       "      <th>0</th>\n",
       "      <td>ORA</td>\n",
       "      <td>25_32</td>\n",
       "      <td>0.222222</td>\n",
       "    </tr>\n",
       "  </tbody>\n",
       "</table>\n",
       "</div>"
      ],
      "text/plain": [
       "  Method Time Bin   Overlap\n",
       "0    CPE      1_8  0.087719\n",
       "0    LPE      1_8  0.058824\n",
       "0   CEPA      1_8  0.016949\n",
       "0    ORA      1_8  0.209524\n",
       "0    CPE     9_16  0.101449\n",
       "0    LPE     9_16  0.088542\n",
       "0   CEPA     9_16  0.016949\n",
       "0    ORA     9_16   0.22884\n",
       "0    CPE    17_24  0.140794\n",
       "0    LPE    17_24  0.118644\n",
       "0   CEPA    17_24  0.043478\n",
       "0    ORA    17_24  0.357362\n",
       "0    CPE    25_32  0.084577\n",
       "0    LPE    25_32  0.119565\n",
       "0   CEPA    25_32  0.025641\n",
       "0    ORA    25_32  0.222222"
      ]
     },
     "execution_count": 46,
     "metadata": {},
     "output_type": "execute_result"
    }
   ],
   "source": [
    "overlap_data"
   ]
  },
  {
   "cell_type": "code",
   "execution_count": 45,
   "metadata": {},
   "outputs": [
    {
     "data": {
      "text/plain": [
       "<AxesSubplot:>"
      ]
     },
     "execution_count": 45,
     "metadata": {},
     "output_type": "execute_result"
    },
    {
     "data": {
      "image/png": "[encoded data removed]",
      "text/plain": [
       "<Figure size 432x288 with 2 Axes>"
      ]
     },
     "metadata": {
      "needs_background": "light"
     },
     "output_type": "display_data"
    }
   ],
   "source": [
    "time_overlap = pd.DataFrame(columns = ['1_8','9_16', '17_24', '25_32'], index= ['1_8','9_16', '17_24', '25_32'])\n",
    "\n",
    "for t_bin1 in ['1_8','9_16', '17_24', '25_32']:\n",
    "    for t_bin2 in ['1_8','9_16', '17_24', '25_32']:\n",
    "        exp_id1 = f'gse73072_6to1_{t_bin1}_subjectID_limma'\n",
    "        exp_id2 = f'gse73072_6to1_{t_bin2}_subjectID_limma'\n",
    "\n",
    "        cpe1_pathway_list = get_pathways_glpe(exp_id1, best_lpe_runs)\n",
    "        cpe2_pathway_list = get_pathways_glpe(exp_id2, best_lpe_runs)\n",
    "\n",
    "        time_overlap.loc[t_bin1, t_bin2] = jaccard(cpe1_pathway_list, cpe2_pathway_list)\n",
    "        time_overlap.loc[t_bin2, t_bin1] = time_overlap.loc[t_bin1, t_bin2]\n",
    "\n",
    "sns.heatmap(data = time_overlap.astype(float),annot=True, cmap = \"rocket_r\")\n"
   ]
  },
  {
   "cell_type": "code",
   "execution_count": 47,
   "metadata": {},
   "outputs": [
    {
     "data": {
      "text/plain": [
       "<AxesSubplot:>"
      ]
     },
     "execution_count": 47,
     "metadata": {},
     "output_type": "execute_result"
    },
    {
     "data": {
      "image/png": "[encoded data removed]",
      "text/plain": [
       "<Figure size 432x288 with 2 Axes>"
      ]
     },
     "metadata": {
      "needs_background": "light"
     },
     "output_type": "display_data"
    }
   ],
   "source": [
    "time_overlap = pd.DataFrame(columns = ['1_8','9_16', '17_24', '25_32'], index= ['1_8','9_16', '17_24', '25_32'])\n",
    "\n",
    "for t_bin1 in ['1_8','9_16', '17_24', '25_32']:\n",
    "    for t_bin2 in ['1_8','9_16', '17_24', '25_32']:\n",
    "        exp_id1 = f'gse73072_6to1_{t_bin1}_subjectID_limma'\n",
    "        exp_id2 = f'gse73072_6to1_{t_bin2}_subjectID_limma'\n",
    "\n",
    "\n",
    "        cepa1_pathway_list = get_pathways_cepa(best_cpe_runs, exp_id1, cepa_runs, pval_thresh =.05)\n",
    "        cepa2_pathway_list = get_pathways_cepa(best_cpe_runs, exp_id2, cepa_runs, pval_thresh =.05)\n",
    "\n",
    "        time_overlap.loc[t_bin1, t_bin2] = jaccard(cepa1_pathway_list, cepa2_pathway_list)\n",
    "        time_overlap.loc[t_bin2, t_bin1] = time_overlap.loc[t_bin1, t_bin2]\n",
    "\n",
    "\n",
    "\n",
    "sns.heatmap(data = time_overlap.astype(float),annot=True, cmap = \"rocket_r\")"
   ]
  },
  {
   "cell_type": "code",
   "execution_count": 48,
   "metadata": {},
   "outputs": [
    {
     "data": {
      "text/plain": [
       "<AxesSubplot:>"
      ]
     },
     "execution_count": 48,
     "metadata": {},
     "output_type": "execute_result"
    },
    {
     "data": {
      "image/png": "[encoded data removed]",
      "text/plain": [
       "<Figure size 432x288 with 2 Axes>"
      ]
     },
     "metadata": {
      "needs_background": "light"
     },
     "output_type": "display_data"
    }
   ],
   "source": [
    "time_overlap = pd.DataFrame(columns = ['1_8','9_16', '17_24', '25_32'], index= ['1_8','9_16', '17_24', '25_32'])\n",
    "\n",
    "for t_bin1 in ['1_8','9_16', '17_24', '25_32']:\n",
    "    for t_bin2 in ['1_8','9_16', '17_24', '25_32']:\n",
    "        exp_id1 = f'gse73072_6to1_{t_bin1}_subjectID_limma'\n",
    "        exp_id2 = f'gse73072_6to1_{t_bin2}_subjectID_limma'\n",
    "\n",
    "\n",
    "        ora_pathways_df = pd.read_csv(f'../ge_ora/{exp_id1}.csv', index_col = 0)\n",
    "        ora_query = ora_pathways_df['pvalue'] < 1 #1 pvalue threshold for ORA\n",
    "        ora1_pathway_list = set(list(ora_pathways_df[ora_query]['ID']))\n",
    "\n",
    "        ora_pathways_df = pd.read_csv(f'../ge_ora/{exp_id2}.csv', index_col = 0)\n",
    "        ora_query = ora_pathways_df['pvalue'] < 1 #1 pvalue threshold for ORA\n",
    "        ora2_pathway_list = set(list(ora_pathways_df[ora_query]['ID']))\n",
    "\n",
    "        time_overlap.loc[t_bin1, t_bin2] = jaccard(ora1_pathway_list, ora2_pathway_list)\n",
    "        time_overlap.loc[t_bin2, t_bin1] = time_overlap.loc[t_bin1, t_bin2]\n",
    "\n",
    "\n",
    "\n",
    "sns.heatmap(data = time_overlap.astype(float),annot=True, cmap = \"rocket_r\")"
   ]
  },
  {
   "cell_type": "code",
   "execution_count": null,
   "metadata": {},
   "outputs": [],
   "source": []
  }
 ],
 "metadata": {
  "kernelspec": {
   "display_name": "Python 3.8.8 ('base')",
   "language": "python",
   "name": "python3"
  },
  "language_info": {
   "codemirror_mode": {
    "name": "ipython",
    "version": 3
   },
   "file_extension": ".py",
   "mimetype": "text/x-python",
   "name": "python",
   "nbconvert_exporter": "python",
   "pygments_lexer": "ipython3",
   "version": "3.8.8"
  },
  "orig_nbformat": 4,
  "vscode": {
   "interpreter": {
    "hash": "9a16b7d45e15add018271b8879906ed388208b17729257166cad5f2212e101aa"
   }
  }
 },
 "nbformat": 4,
 "nbformat_minor": 2
}
