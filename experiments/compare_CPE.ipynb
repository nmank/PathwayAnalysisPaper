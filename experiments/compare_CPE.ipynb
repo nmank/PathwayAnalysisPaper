{
 "cells": [
  {
   "cell_type": "code",
   "execution_count": null,
   "metadata": {},
   "outputs": [],
   "source": [
    "import mlflow\n",
    "import numpy as np\n",
    "import pandas as pd\n",
    "import plotly.express as px\n",
    "runs_pe = mlflow.search_runs(experiment_ids=['2']).fillna(value=np.nan)\n",
    "\n",
    "query = (runs_pe['params.method'] == 'CPE') &\\\n",
    "        (['limma' in exp for exp in runs_pe['params.experiment']])\n",
    "\n",
    "cpe_runs = runs_pe[query]\n",
    "\n",
    "new_directed = []\n",
    "for d in cpe_runs['params.directed']:\n",
    "        if d == 'True':\n",
    "                new_directed.append('directed')\n",
    "        else:\n",
    "                new_directed.append('undirected')\n",
    "\n",
    "cpe_runs['params.directed'] = new_directed\n",
    "\n",
    "cpe_runs['similarity_directed'] = cpe_runs['params.similarity_measure']+' '+cpe_runs['params.directed']\n",
    "\n",
    "another_query = cpe_runs['similarity_directed'] != 'correlation directed'\n",
    "\n",
    "refined_cpe_runs = cpe_runs[another_query]\n",
    "\n",
    "renamed_refined_cpe_runs = refined_cpe_runs.rename(columns = {'similarity_directed': 'Similarity', 'params.centrality_measure': 'Centrality', 'metrics.train_test.Test.Mean.BSR':'BSR'})\n",
    "\n",
    "px.box(renamed_refined_cpe_runs, x='Centrality', y='BSR', color='Similarity')"
   ]
  }
 ],
 "metadata": {
  "kernelspec": {
   "display_name": "Python 3.6.8 64-bit",
   "language": "python",
   "name": "python3"
  },
  "language_info": {
   "name": "python",
   "version": "3.6.8"
  },
  "orig_nbformat": 4,
  "vscode": {
   "interpreter": {
    "hash": "31f2aee4e71d21fbe5cf8b01ff0e069b9275f58929596ceb00d14d90e3e16cd6"
   }
  }
 },
 "nbformat": 4,
 "nbformat_minor": 2
}
